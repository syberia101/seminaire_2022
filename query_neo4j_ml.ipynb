{
 "cells": [
  {
   "cell_type": "code",
   "execution_count": 21,
   "metadata": {},
   "outputs": [],
   "source": [
    "import pandas as pd\n",
    "import neo4j as neo\n",
    "import matplotlib.pyplot as plt\n",
    "plt.rcParams['figure.figsize'] = [15, 10]\n",
    "import seaborn as sns\n",
    "from graphdatascience import GraphDataScience"
   ]
  },
  {
   "cell_type": "markdown",
   "metadata": {},
   "source": [
    "#source = https://towardsdatascience.com/create-a-graph-database-in-neo4j-using-python-4172d40f89c4\n",
    "class Neo4jConnection:\n",
    "    \n",
    "    def __init__(self, uri, user, pwd):\n",
    "        self.__uri = uri\n",
    "        self.__user = user\n",
    "        self.__pwd = pwd\n",
    "        self.__driver = None\n",
    "\n",
    "        try:\n",
    "            self.__driver = neo.GraphDatabase.driver(self.__uri, auth=(self.__user, self.__pwd))\n",
    "        except Exception as e:\n",
    "            print(\"Failed to create the driver:\", e)\n",
    "        \n",
    "    def close(self):\n",
    "        if self.__driver is not None:\n",
    "            self.__driver.close()\n",
    "        \n",
    "    def query(self, query, parameters=None, db=None):\n",
    "        assert self.__driver is not None, \"Driver not initialized!\"\n",
    "        session = None\n",
    "        response = None\n",
    "        try: \n",
    "            session = self.__driver.session(database=db) if db is not None else self.__driver.session() \n",
    "            response = list(session.run(query, parameters))\n",
    "        except Exception as e:\n",
    "            print(\"Query failed:\", e)\n",
    "        finally: \n",
    "            if session is not None:\n",
    "                session.close()\n",
    "        return response\n",
    "    \n",
    "    def insert_data(self,query, rows, batch_size = 10000):\n",
    "        # Function to handle the updating the Neo4j database in batch mode.\n",
    "        \n",
    "        total = 0\n",
    "        batch = 0\n",
    "        result = None\n",
    "        \n",
    "        while batch * batch_size < len(rows):\n",
    "\n",
    "            res = conn.query(query, \n",
    "                            parameters = {'rows': rows[batch*batch_size:(batch+1)*batch_size].to_dict('records')})\n",
    "            total += res[0]['total']\n",
    "            batch += 1\n",
    "            result = {\"total\":total, \n",
    "                    \"batches\":batch,}\n",
    "            print(result)\n",
    "            \n",
    "        return result\n",
    "\n"
   ]
  },
  {
   "cell_type": "markdown",
   "metadata": {},
   "source": [
    "## CONNECTION WITH NEO4J DATABASE"
   ]
  },
  {
   "cell_type": "code",
   "execution_count": 22,
   "metadata": {},
   "outputs": [],
   "source": [
    "host = \"bolt://44.204.150.95:7687\"\n",
    "user = \"neo4j\"\n",
    "password= \"cakes-resident-pans\"\n",
    "\n",
    "# conn = Neo4jConnection(uri=host, \n",
    "#                        user=user,              \n",
    "#                        pwd=password)\n",
    "\n",
    "gds = GraphDataScience(host, auth=(user, password))\n",
    "\n",
    "print(gds.version())"
   ]
  },
  {
   "attachments": {},
   "cell_type": "markdown",
   "metadata": {},
   "source": [
    "### METADATA OF THE GRAPH"
   ]
  },
  {
   "cell_type": "code",
   "execution_count": null,
   "metadata": {},
   "outputs": [],
   "source": [
    "gds.run_cypher(\"CALL db.schema.nodeTypeProperties()\")"
   ]
  },
  {
   "cell_type": "code",
   "execution_count": null,
   "metadata": {},
   "outputs": [],
   "source": [
    "#Some metadata\n",
    "gds.run_cypher(\"CALL db.schema.relTypeProperties()\")"
   ]
  },
  {
   "attachments": {},
   "cell_type": "markdown",
   "metadata": {},
   "source": [
    "### GET THE SCIENTISTS WITH THE MOST PUBLICATIONS IN THE DB"
   ]
  },
  {
   "cell_type": "code",
   "execution_count": null,
   "metadata": {},
   "outputs": [],
   "source": [
    "#Get the scientits in unige with the most publications\n",
    "\n",
    "result_total_publications= gds.run_cypher(\"MATCH (r:Researcher)-[w:WORKS_IN]-(f:Field) RETURN r.full_name as name, r.researcher_id as researcher_id, r.total_number_of_publications as total, \\\n",
    "collect (f.domain) ORDER BY r.total_number_of_publications DESC LIMIT 80\")\n",
    "result_total_publications.head(10)"
   ]
  },
  {
   "cell_type": "code",
   "execution_count": null,
   "metadata": {},
   "outputs": [],
   "source": [
    "result_total_publications_map= gds.run_cypher(\"MATCH (r:Researcher)-[w:WORKS_IN]-(f:Field) RETURN r.full_name, \\\n",
    "r.total_number_of_publications as total, collect({number:w.number_of_publication,field:f.domain}) as field_number ORDER BY total DESC LIMIT 10\")\n",
    "result_total_publications_map.head()"
   ]
  },
  {
   "cell_type": "code",
   "execution_count": null,
   "metadata": {},
   "outputs": [],
   "source": [
    "g = sns.barplot(x=result_total_publications[\"name\"], y=result_total_publications[\"total\"])\n",
    "g = g.set_xticklabels(g.get_xticklabels(), rotation=90)"
   ]
  },
  {
   "attachments": {},
   "cell_type": "markdown",
   "metadata": {},
   "source": [
    "## WHO IS K.CENZUAL????\n",
    "When the data is weird like this, normally you investigate."
   ]
  },
  {
   "cell_type": "code",
   "execution_count": null,
   "metadata": {},
   "outputs": [],
   "source": []
  },
  {
   "attachments": {},
   "cell_type": "markdown",
   "metadata": {},
   "source": [
    "### Number of publication in an domain of research"
   ]
  },
  {
   "cell_type": "code",
   "execution_count": null,
   "metadata": {},
   "outputs": [],
   "source": [
    "#Get the field which has the most publications\n",
    "result_domain_count = gds.run_cypher(\"MATCH (r:Researcher)-[w:WORKS_IN]-(f:Field) RETURN f.domain as domain, count(*) as number_time ORDER BY  number_time DESC LIMIT 40\")\n",
    "result_domain_count.head()"
   ]
  },
  {
   "cell_type": "code",
   "execution_count": null,
   "metadata": {},
   "outputs": [],
   "source": [
    "g = sns.barplot(x=result_domain_count[\"domain\"], y=result_domain_count[\"number_time\"])\n",
    "g =g.set_xticklabels(g.get_xticklabels(), rotation=90)"
   ]
  },
  {
   "attachments": {},
   "cell_type": "markdown",
   "metadata": {},
   "source": [
    "### Who published in the most area of research"
   ]
  },
  {
   "cell_type": "code",
   "execution_count": null,
   "metadata": {},
   "outputs": [],
   "source": [
    "#Get the researcher that works in several research fields.\n",
    "result_field = gds.run_cypher(\"MATCH (r:Researcher)-[w:WORKS_IN]-(f:Field) RETURN r.full_name as name, r.researcher_id as researcher_id, count(*) as fields ORDER BY  fields DESC LIMIT 30\")\n",
    "result_field.head()"
   ]
  },
  {
   "cell_type": "code",
   "execution_count": null,
   "metadata": {},
   "outputs": [],
   "source": [
    "g = sns.barplot(x=result_field[\"name\"], y=result_field[\"fields\"])\n",
    "g = g.set_xticklabels(g.get_xticklabels(), rotation=90)"
   ]
  },
  {
   "cell_type": "code",
   "execution_count": null,
   "metadata": {},
   "outputs": [],
   "source": [
    "choppard = gds.run_cypher(\"MATCH (r:Researcher{researcher_id:'ur.016275067565.80'})-[w:WORKS_IN]-(f:Field) RETURN r.full_name as full_name, count(*) as total_fields, collect(f.domain) as domain\")\n",
    "pd.set_option('display.max_columns', None)\n",
    "pd.set_option('display.max_colwidth', None)\n",
    "print(choppard.domain)"
   ]
  },
  {
   "attachments": {},
   "cell_type": "markdown",
   "metadata": {},
   "source": [
    "## Computer science"
   ]
  },
  {
   "cell_type": "code",
   "execution_count": null,
   "metadata": {},
   "outputs": [],
   "source": [
    "field_computer_science = [\"Information Systems\",\"Computer Software\",\"Data Format\",\n",
    "\"Artificial Intelligence and Image Processing\",\"Computation Theory and Mathematics\",\"Other Information and Computing Sciences\",\n",
    "\"Library and Information Studies\",\"Computer Hardware\"]\n",
    "field_computer_science"
   ]
  },
  {
   "cell_type": "code",
   "execution_count": null,
   "metadata": {},
   "outputs": [],
   "source": [
    "#Get the researcher with the most publications in Computer Science \n",
    "\n",
    "query_number_publications_in_computer_science_person =f\"MATCH(r:Researcher)-[w:WORKS_IN]-(f:Field) WHERE f.domain IN {field_computer_science} \\\n",
    "    and w.weight_field > 1 return distinct r.full_name as name,r.researcher_id as researcher_id, r.total_number_of_publications as total_publication ORDER by r.total_number_of_publications DESC\"\n",
    "\n",
    "result_number_publication_person_computer_science = gds.run_cypher(query_number_publications_in_computer_science_person)\n",
    "result_number_publication_person_computer_science.head(20)"
   ]
  },
  {
   "cell_type": "code",
   "execution_count": null,
   "metadata": {},
   "outputs": [],
   "source": [
    "query_informatique_fields = (f\"MATCH(n:Researcher)-[w:WORKS_IN]-(f:Field) WHERE f.domain \\\n",
    "     IN {field_computer_science}  RETURN DISTINCT n.full_name, n.researcher_id as researcher, f.domain, w.weight_field ORDER by w.weight_field DESC\")\n",
    "\n",
    "result_informatique_field = gds.run_cypher(query_informatique_fields)\n",
    "result_informatique_field.head(10)"
   ]
  },
  {
   "cell_type": "code",
   "execution_count": null,
   "metadata": {},
   "outputs": [],
   "source": [
    "#Get the researcher that works in several research fields.\n",
    "result_field = gds.run_cypher(f\"MATCH (r:Researcher)-[w:WORKS_IN]-(f:Field) WHERE f.domain \\\n",
    "IN {field_computer_science} and w.weight_field > 5 with r,f,w MATCH (r)-[ww:WORKS_IN]-(ff:Field)  \\\n",
    "RETURN r.full_name,r.researcher_id as researcher_id, r.total_number_of_publications as total_publication,max(w.weight_field) as max_weight_field, \\\n",
    "collect( DISTINCT f.domain) as domain_computer, \\\n",
    "count(ff.domain) as count_all_domain, collect(ff.domain) as all_domain  \\\n",
    "ORDER BY total_publication DESC \")\n",
    "result_field.head(20)"
   ]
  },
  {
   "cell_type": "code",
   "execution_count": null,
   "metadata": {},
   "outputs": [],
   "source": [
    "graph_name = \"co_authors_graph\""
   ]
  },
  {
   "cell_type": "code",
   "execution_count": null,
   "metadata": {},
   "outputs": [],
   "source": [
    "result = gds.run_cypher(\"\"\"CALL gds.graph.drop($params,false) YIELD graphName\"\"\",params={\"params\":graph_name}) # drop the graph and do not raise the error if the graph is not found.\n",
    "result = gds.run_cypher(\"\"\"CALL gds.graph.project($params, 'Researcher', 'CO_AUTHORS')\"\"\",params={\"params\":graph_name})\n",
    "result"
   ]
  },
  {
   "attachments": {},
   "cell_type": "markdown",
   "metadata": {},
   "source": [
    "## Start of the Recommender \n",
    "\n",
    "### Difference between centrality and betweeeness measures\n",
    "\n",
    "Degree centrality measures the number of incoming or outgoing (or both) relationships from a node, depending on the orientation of a relationship projection.\n",
    "\n",
    "Betweenness centrality is a way of detecting the amount of influence a node has over the flow of information in a graph. It is often used to find nodes that serve as a bridge from one part of a graph to another."
   ]
  },
  {
   "attachments": {},
   "cell_type": "markdown",
   "metadata": {},
   "source": [
    "## Calculate the Degree Centrality"
   ]
  },
  {
   "cell_type": "code",
   "execution_count": null,
   "metadata": {},
   "outputs": [],
   "source": [
    "#Stream the result for the degree centrality \n",
    "\n",
    "result = gds.run_cypher(\n",
    "f\" CALL gds.degree.stream($params) YIELD nodeId, score RETURN gds.util.asNode(nodeId).full_name AS name, score ORDER BY score DESC, name ASC\", params={\"params\":graph_name}\n",
    ")\n",
    "result.head()"
   ]
  },
  {
   "cell_type": "code",
   "execution_count": null,
   "metadata": {},
   "outputs": [],
   "source": [
    "#write the data in the graph\n",
    "result = gds.run_cypher(f\"CALL gds.degree.write($params_graph, {{writeProperty: 'degree_centrality'}})\",params={\"params_graph\":graph_name})\n",
    "result\n"
   ]
  },
  {
   "cell_type": "code",
   "execution_count": null,
   "metadata": {},
   "outputs": [],
   "source": [
    "# #difficult to run on AURO DS\n",
    "# result_betweeness = gds.run_cypher(\n",
    "# f\" CALL gds.betweenness.write($params_graph, {{writeProperty: 'betweeness'}})\",params={\"params_graph\":graph_name})\n",
    "# result_betweeness\n"
   ]
  },
  {
   "attachments": {},
   "cell_type": "markdown",
   "metadata": {},
   "source": [
    "### Calculate PageRank\n",
    "The PageRank algorithm measures the importance of each node within the graph, based on the number \n",
    "incoming relationships and the importance of the corresponding source nodes. \n",
    "The underlying assumption roughly speaking is that a page is only as important as the pages that link to it.\n"
   ]
  },
  {
   "cell_type": "code",
   "execution_count": null,
   "metadata": {},
   "outputs": [],
   "source": [
    "result_page_rank = gds.run_cypher(\n",
    "f\" CALL gds.pageRank.stream($params)\\\n",
    "YIELD nodeId, score \\\n",
    "RETURN gds.util.asNode(nodeId).full_name AS name, score \\\n",
    "ORDER BY score DESC, name ASC\" , params={\"params\":graph_name}\n",
    ")\n",
    "result_page_rank.head(10)"
   ]
  },
  {
   "cell_type": "code",
   "execution_count": null,
   "metadata": {},
   "outputs": [],
   "source": [
    "result_page_rank = gds.run_cypher(\n",
    "f\" CALL gds.pageRank.write($params_graph, {{writeProperty: 'pageRank'}})\",params={\"params_graph\":graph_name})\n",
    "result_page_rank"
   ]
  },
  {
   "attachments": {},
   "cell_type": "markdown",
   "metadata": {},
   "source": [
    "## Query the database for pageRank and Degree centrality"
   ]
  },
  {
   "cell_type": "code",
   "execution_count": null,
   "metadata": {},
   "outputs": [],
   "source": [
    "betweeness_page_rank_df = gds.run_cypher(f\"MATCH (n:Researcher)-[w:WORKS_IN]-(f:Field) WHERE f.domain IN {field_computer_science} and w.weight_field>1 return DISTINCT n.full_name, n.researcher_id, n.pageRank as pageRank,n.degree_centrality as centrality_score ORDER by pageRank DESC\")\n",
    "betweeness_page_rank_df\n",
    "\n",
    "#centrality_df = gds.run_cypher(f\"MATCH (n:Researcher)-[w:WORKS_IN]-(f:Field) WHERE f.domain IN {field_computer_science} and w.weight_field>3 return DISTINCT n.full_name,  n.researcher_id, n.degree_centrality as centrality_score ORDER by centrality_score  DESC\")"
   ]
  },
  {
   "cell_type": "code",
   "execution_count": null,
   "metadata": {},
   "outputs": [],
   "source": [
    "from sklearn.preprocessing import StandardScaler\n",
    "scaler = StandardScaler()\n",
    "\n",
    "\n",
    "df = pd.DataFrame({\n",
    "               'A':[1,2,3,5,10],\n",
    "               'B':[100,200,300,500,50],\n",
    "               'C':list('abcde')\n",
    "})\n",
    "df\n"
   ]
  },
  {
   "cell_type": "code",
   "execution_count": null,
   "metadata": {},
   "outputs": [],
   "source": [
    "df.iloc[:,0:-1] = df.iloc[:,0:-1].apply(lambda x: (x-x.mean())/ x.std(), axis=0)\n",
    "print(df)"
   ]
  },
  {
   "cell_type": "code",
   "execution_count": null,
   "metadata": {},
   "outputs": [],
   "source": [
    "df.iloc[:,0:-1]= df.iloc[:,0:-1].transform(lambda x: x / abs(x).max())\n",
    "df"
   ]
  },
  {
   "cell_type": "code",
   "execution_count": null,
   "metadata": {},
   "outputs": [],
   "source": [
    "betweeness_page_rank_df.iloc[:,2:] = scaler.fit_transform(betweeness_page_rank_df.iloc[:,2:].to_numpy())\n",
    "betweeness_page_rank_df"
   ]
  },
  {
   "cell_type": "code",
   "execution_count": null,
   "metadata": {},
   "outputs": [],
   "source": [
    "df.iloc[:,0:-1] = (df.iloc[:,0:-1]-df.iloc[:,0:-1].min()) / (df.iloc[:,0:-1].max()-df.iloc[:,0:-1].min())\n",
    "df"
   ]
  },
  {
   "cell_type": "code",
   "execution_count": null,
   "metadata": {},
   "outputs": [],
   "source": [
    "#betweeness_page_rank_df.iloc[:,2:]= betweeness_page_rank_df.iloc[:,2:].transform(lambda x: x / abs(x).max())"
   ]
  },
  {
   "cell_type": "code",
   "execution_count": null,
   "metadata": {},
   "outputs": [],
   "source": [
    "#betweeness_page_rank_df.iloc[:,2:]= betweeness_page_rank_df.iloc[:,2:].transform(lambda x: x / abs(x).max())\n",
    "#betweeness_page_rank_df=(df-df.min())/(df.max()-df.min())"
   ]
  },
  {
   "cell_type": "code",
   "execution_count": null,
   "metadata": {},
   "outputs": [],
   "source": [
    "\n",
    "betweeness_page_rank_df.fillna(0,inplace=True)\n",
    "betweeness_page_rank_df.set_index(\"n.full_name\",inplace=True)\n",
    "betweeness_page_rank_df"
   ]
  },
  {
   "cell_type": "code",
   "execution_count": null,
   "metadata": {},
   "outputs": [],
   "source": [
    "p = betweeness_page_rank_df.sort_values(by=\"centrality_score\",ascending=False).head(40).plot.bar(stacked=True)\n",
    "p = p.set_xticklabels(p.get_xticklabels(), rotation=90)\n"
   ]
  },
  {
   "cell_type": "code",
   "execution_count": null,
   "metadata": {},
   "outputs": [],
   "source": [
    "researcher_1=\"Jean-Henry Morin\"\n",
    "researcher_2=\"Katarzyna Wac\""
   ]
  },
  {
   "cell_type": "code",
   "execution_count": null,
   "metadata": {},
   "outputs": [],
   "source": [
    "#Paper written by 2 scientists\n",
    "\n",
    "result_inference = gds.run_cypher(f\"UNWIND $full_name as full_name\\\n",
    "        MATCH (res_1:Researcher{{full_name:full_name}}) CALL apoc.neighbors.athop(res_1, 'CO_AUTHORS', 2) \\\n",
    "        yield node as res_2  \\\n",
    "        MATCH (res_1)-[w_1:WORKS_IN]->(f:Field) \\\n",
    "        MATCH (res_2)-[w_2:WORKS_IN]->(f:Field) \\\n",
    "        WHERE (w_2.weight_field-$difference_weight_field)<= w_1.weight_field <=(w_2.weight_field+$difference_weight_field) \\\n",
    "        AND w_1.weight_field > $minimum_weight_field \\\n",
    "        and res_1 <> res_2 \\\n",
    "        RETURN DISTINCT res_1.full_name as full_name_author, res_2.full_name as reviewer_full_name,res_2.researcher_id as reviewer_id, round((w_2.weight_field+w_1.weight_field)/2,3) as score \\\n",
    "        \",params={\"full_name\":[researcher_1,researcher_2],\"difference_weight_field\":0.8,\"minimum_weight_field\":0.8})\n",
    "result_tmp = result_inference.groupby([\"reviewer_id\"]).sum(\"score\")\n",
    "result_merged = result_tmp.merge(result_inference,on=\"reviewer_id\").drop(columns=\"score_y\").rename(columns={\"score_x\":\"score\"}).drop_duplicates()\n",
    "result_merged.sort_values(by=\"score\",ascending=False)\n"
   ]
  },
  {
   "cell_type": "code",
   "execution_count": null,
   "metadata": {},
   "outputs": [],
   "source": [
    "graph_result = gds.run_cypher(\"\"\"\n",
    "CALL gds.graph.project('co_authors_graph_weight', 'Researcher', {CO_AUTHORS:{properties:\"number_of_time\"}})\n",
    "\"\"\")"
   ]
  },
  {
   "attachments": {},
   "cell_type": "markdown",
   "metadata": {},
   "source": [
    "### LOUVAIN COMMUNITY\n",
    "\n",
    "The Louvain method is an algorithm to detect communities in large networks. It maximizes a modularity score for each community, where the modularity quantifies the quality of an assignment of nodes to communities. This means evaluating how much more densely connected the nodes within a community are, compared to how connected they would be in a random network. (source neo4j)"
   ]
  },
  {
   "cell_type": "code",
   "execution_count": null,
   "metadata": {},
   "outputs": [],
   "source": [
    "#LOUVAIN\n",
    "\n",
    "result_stream_louvain = gds.run_cypher(\"\"\"\n",
    "CALL gds.louvain.stream('co_authors_graph_weight')\n",
    "YIELD nodeId, communityId, intermediateCommunityIds\n",
    "RETURN gds.util.asNode(nodeId).full_name AS full_name, communityId, intermediateCommunityIds\n",
    "ORDER BY full_name ASC\"\"\")\n",
    "result_stream_louvain.head()\n"
   ]
  },
  {
   "cell_type": "code",
   "execution_count": null,
   "metadata": {},
   "outputs": [],
   "source": [
    "result_stream_louvain = gds.run_cypher(\"\"\"\n",
    "CALL gds.louvain.write('co_authors_graph_weight',{relationshipWeightProperty:\"number_of_time\", writeProperty:\"louvain\"})\n",
    "YIELD communityCount, modularity, modularities\"\"\")\n",
    "result_stream_louvain.head()\n"
   ]
  },
  {
   "cell_type": "code",
   "execution_count": null,
   "metadata": {},
   "outputs": [],
   "source": [
    "louvain_df = gds.run_cypher(f\"MATCH (n:Researcher)-[w:WORKS_IN]-(f:Field) WHERE f.domain IN {field_computer_science} and w.weight_field>3 return DISTINCT n.full_name, n.louvain as pageRank ORDER by pageRank DESC LIMIT 20\")\n",
    "louvain_df"
   ]
  },
  {
   "cell_type": "code",
   "execution_count": null,
   "metadata": {},
   "outputs": [],
   "source": [
    "\n",
    "louvain_2_scientists = gds.run_cypher(f\"MATCH (n:Researcher)-[w:WORKS_IN]-(f:Field) \\\n",
    "WHERE n.full_name=$researcher_1 return DISTINCT n.full_name, n.louvain as louvain \\\n",
    "UNION \\\n",
    "MATCH (n:Researcher)-[w:WORKS_IN]-(f:Field) \\\n",
    "WHERE n.full_name=$researcher_2 return DISTINCT n.full_name, n.louvain as louvain\",params={\"researcher_1\":researcher_1,\"researcher_2\":researcher_2})\n",
    "louvain_2_scientists"
   ]
  },
  {
   "cell_type": "code",
   "execution_count": null,
   "metadata": {},
   "outputs": [],
   "source": [
    "#return the researcher that are in the same community than Gilles and Jean-Henry\n",
    "louvain_other = gds.run_cypher(f\"MATCH (n:Researcher)-[w:WORKS_IN]-(f:Field) WHERE n.louvain IN {louvain_2_scientists.louvain.tolist()} \\\n",
    "RETURN DISTINCT n.full_name as full_name, n.researcher_id as researcher_id, n.louvain\")\n",
    "louvain_other.head(10)"
   ]
  },
  {
   "cell_type": "code",
   "execution_count": null,
   "metadata": {},
   "outputs": [],
   "source": [
    "result_merged_louvain_inference = result_inference.merge(louvain_other, how=\"left\", left_on=\"reviewer_id\",right_on=\"researcher_id\").drop(columns=[\"researcher_id\",\"full_name\"]).sort_values(by=\"n.louvain\")\n",
    "result_merged_louvain_inference"
   ]
  },
  {
   "cell_type": "code",
   "execution_count": null,
   "metadata": {},
   "outputs": [],
   "source": [
    "def query_co_authors_by_name(names: list[str]):\n",
    "        query = \"\"\"\n",
    "        UNWIND $researchers as name\n",
    "        MATCH (r:Researcher{full_name: name})-[c:CO_AUTHORS]-(p:Researcher) \n",
    "        WHERE r<>p\n",
    "        RETURN DISTINCT p.researcher_id,p.full_name\n",
    "        \"\"\"\n",
    "        return gds.run_cypher(\n",
    "            query,\n",
    "            params={\"researchers\": names},\n",
    "        )"
   ]
  },
  {
   "cell_type": "code",
   "execution_count": null,
   "metadata": {},
   "outputs": [],
   "source": [
    "co_authors = query_co_authors_by_name(result_inference.reviewer_full_name.tolist())\n",
    "co_authors"
   ]
  },
  {
   "cell_type": "code",
   "execution_count": null,
   "metadata": {},
   "outputs": [],
   "source": []
  },
  {
   "cell_type": "code",
   "execution_count": null,
   "metadata": {},
   "outputs": [],
   "source": [
    "result_merged_louvain_inference.merge(co_authors,how=\"left\",left_on=\"reviewer_id\",right_on=\"p.researcher_id\").fillna(\"0\").sort_values(by=\"p.researcher_id\",ascending=True)"
   ]
  },
  {
   "cell_type": "code",
   "execution_count": null,
   "metadata": {},
   "outputs": [],
   "source": [
    "#Node similarity\n",
    "\n",
    "graph_result = gds.run_cypher(\"\"\"\n",
    "CALL gds.graph.project('co_authors_graph_weight', 'Researcher', {CO_AUTHORS:{properties:\"number_of_time\"}})\n",
    "\"\"\")"
   ]
  },
  {
   "cell_type": "code",
   "execution_count": null,
   "metadata": {},
   "outputs": [],
   "source": [
    "# graph_result = gds.run_cypher(\"\"\"\n",
    "# CALL gds.graph.project('co_authors_graph_weight', 'Researcher', {CO_AUTHORS:{properties:\"number_of_time\"}})\n",
    "# \"\"\")\n",
    "# graph_result\n",
    "# f, axs = plt.subplots(1,2,figsize=(16,5))\n",
    "\n",
    "# g = sns.barplot(ax=axs[0], x=merged[\"n.full_name\"], y=merged[\"betweeness_score\"])\n",
    "# b = sns.barplot(ax=axs[1],x=merged[\"n.full_name\"], y=merged[\"centrality_score\"])\n",
    "\n",
    "# g.set_xticklabels(g.get_xticklabels(), rotation=90)\n",
    "# b.set_xticklabels(g.get_xticklabels(), rotation=90)\n",
    "\n",
    "# plt.show()\n",
    "\n"
   ]
  }
 ],
 "metadata": {
  "kernelspec": {
   "display_name": "seminaire-2022-4lsZ7u0L-py3.10",
   "language": "python",
   "name": "python3"
  },
  "language_info": {
   "codemirror_mode": {
    "name": "ipython",
    "version": 3
   },
   "file_extension": ".py",
   "mimetype": "text/x-python",
   "name": "python",
   "nbconvert_exporter": "python",
   "pygments_lexer": "ipython3",
   "version": "3.10.3"
  },
  "orig_nbformat": 4,
  "vscode": {
   "interpreter": {
    "hash": "620819894f6fc06b8d322f87ec535c6cba2fc33658f2b62c920a4b5d35a28df1"
   }
  }
 },
 "nbformat": 4,
 "nbformat_minor": 2
}
